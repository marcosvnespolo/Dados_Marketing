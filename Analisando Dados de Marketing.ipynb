{
 "cells": [
  {
   "cell_type": "markdown",
   "id": "993620a9",
   "metadata": {},
   "source": [
    "# Objetivos do Projeto\n",
    "\n",
    "- Conhecer e limpar os dados\n",
    "- Criar perguntas de negócio para direcionar as análises\n",
    "- Analisar variáveis nos dados para obter padrões e insights"
   ]
  },
  {
   "cell_type": "markdown",
   "id": "9de8fd99",
   "metadata": {},
   "source": [
    "# Dados\n",
    "\n",
    "- Os dados utilizados no projeto podem ser encontrados no repositório "
   ]
  },
  {
   "cell_type": "code",
   "execution_count": 3,
   "id": "e31179cb",
   "metadata": {},
   "outputs": [],
   "source": [
    "import pandas as pd\n",
    "import seaborn as sns\n",
    "import matplotlib.pyplot as plt\n",
    "import numpy as np\n",
    "import re"
   ]
  },
  {
   "cell_type": "code",
   "execution_count": 4,
   "id": "4a07cb93",
   "metadata": {},
   "outputs": [
    {
     "data": {
      "text/html": [
       "<div>\n",
       "<style scoped>\n",
       "    .dataframe tbody tr th:only-of-type {\n",
       "        vertical-align: middle;\n",
       "    }\n",
       "\n",
       "    .dataframe tbody tr th {\n",
       "        vertical-align: top;\n",
       "    }\n",
       "\n",
       "    .dataframe thead th {\n",
       "        text-align: right;\n",
       "    }\n",
       "</style>\n",
       "<table border=\"1\" class=\"dataframe\">\n",
       "  <thead>\n",
       "    <tr style=\"text-align: right;\">\n",
       "      <th></th>\n",
       "      <th>id</th>\n",
       "      <th>YearBirth</th>\n",
       "      <th>Education</th>\n",
       "      <th>MaritalStatus</th>\n",
       "      <th>Income</th>\n",
       "      <th>Kidhome</th>\n",
       "      <th>Teenhome</th>\n",
       "      <th>DtCustomer</th>\n",
       "      <th>Recency</th>\n",
       "      <th>MntWines</th>\n",
       "      <th>...</th>\n",
       "      <th>NumStorePurchases</th>\n",
       "      <th>NumWebVisitsMonth</th>\n",
       "      <th>AcceptedCmp3</th>\n",
       "      <th>AcceptedCmp4</th>\n",
       "      <th>AcceptedCmp5</th>\n",
       "      <th>AcceptedCmp1</th>\n",
       "      <th>AcceptedCmp2</th>\n",
       "      <th>Response</th>\n",
       "      <th>Complain</th>\n",
       "      <th>Country</th>\n",
       "    </tr>\n",
       "  </thead>\n",
       "  <tbody>\n",
       "    <tr>\n",
       "      <th>0</th>\n",
       "      <td>1826</td>\n",
       "      <td>1970</td>\n",
       "      <td>Graduation</td>\n",
       "      <td>Divorced</td>\n",
       "      <td>$84,835.00</td>\n",
       "      <td>0</td>\n",
       "      <td>0</td>\n",
       "      <td>6/16/14</td>\n",
       "      <td>0</td>\n",
       "      <td>189</td>\n",
       "      <td>...</td>\n",
       "      <td>6</td>\n",
       "      <td>1</td>\n",
       "      <td>0</td>\n",
       "      <td>0</td>\n",
       "      <td>0</td>\n",
       "      <td>0</td>\n",
       "      <td>0</td>\n",
       "      <td>1</td>\n",
       "      <td>0</td>\n",
       "      <td>SP</td>\n",
       "    </tr>\n",
       "    <tr>\n",
       "      <th>1</th>\n",
       "      <td>1</td>\n",
       "      <td>1961</td>\n",
       "      <td>Graduation</td>\n",
       "      <td>Single</td>\n",
       "      <td>$57,091.00</td>\n",
       "      <td>0</td>\n",
       "      <td>0</td>\n",
       "      <td>6/15/14</td>\n",
       "      <td>0</td>\n",
       "      <td>464</td>\n",
       "      <td>...</td>\n",
       "      <td>7</td>\n",
       "      <td>5</td>\n",
       "      <td>0</td>\n",
       "      <td>0</td>\n",
       "      <td>0</td>\n",
       "      <td>0</td>\n",
       "      <td>1</td>\n",
       "      <td>1</td>\n",
       "      <td>0</td>\n",
       "      <td>CA</td>\n",
       "    </tr>\n",
       "    <tr>\n",
       "      <th>2</th>\n",
       "      <td>10476</td>\n",
       "      <td>1958</td>\n",
       "      <td>Graduation</td>\n",
       "      <td>Married</td>\n",
       "      <td>$67,267.00</td>\n",
       "      <td>0</td>\n",
       "      <td>1</td>\n",
       "      <td>5/13/14</td>\n",
       "      <td>0</td>\n",
       "      <td>134</td>\n",
       "      <td>...</td>\n",
       "      <td>5</td>\n",
       "      <td>2</td>\n",
       "      <td>0</td>\n",
       "      <td>0</td>\n",
       "      <td>0</td>\n",
       "      <td>0</td>\n",
       "      <td>0</td>\n",
       "      <td>0</td>\n",
       "      <td>0</td>\n",
       "      <td>US</td>\n",
       "    </tr>\n",
       "    <tr>\n",
       "      <th>3</th>\n",
       "      <td>1386</td>\n",
       "      <td>1967</td>\n",
       "      <td>Graduation</td>\n",
       "      <td>Together</td>\n",
       "      <td>$32,474.00</td>\n",
       "      <td>1</td>\n",
       "      <td>1</td>\n",
       "      <td>5/11/14</td>\n",
       "      <td>0</td>\n",
       "      <td>10</td>\n",
       "      <td>...</td>\n",
       "      <td>2</td>\n",
       "      <td>7</td>\n",
       "      <td>0</td>\n",
       "      <td>0</td>\n",
       "      <td>0</td>\n",
       "      <td>0</td>\n",
       "      <td>0</td>\n",
       "      <td>0</td>\n",
       "      <td>0</td>\n",
       "      <td>AUS</td>\n",
       "    </tr>\n",
       "    <tr>\n",
       "      <th>4</th>\n",
       "      <td>5371</td>\n",
       "      <td>1989</td>\n",
       "      <td>Graduation</td>\n",
       "      <td>Single</td>\n",
       "      <td>$21,474.00</td>\n",
       "      <td>1</td>\n",
       "      <td>0</td>\n",
       "      <td>4/8/14</td>\n",
       "      <td>0</td>\n",
       "      <td>6</td>\n",
       "      <td>...</td>\n",
       "      <td>2</td>\n",
       "      <td>7</td>\n",
       "      <td>1</td>\n",
       "      <td>0</td>\n",
       "      <td>0</td>\n",
       "      <td>0</td>\n",
       "      <td>0</td>\n",
       "      <td>1</td>\n",
       "      <td>0</td>\n",
       "      <td>SP</td>\n",
       "    </tr>\n",
       "    <tr>\n",
       "      <th>...</th>\n",
       "      <td>...</td>\n",
       "      <td>...</td>\n",
       "      <td>...</td>\n",
       "      <td>...</td>\n",
       "      <td>...</td>\n",
       "      <td>...</td>\n",
       "      <td>...</td>\n",
       "      <td>...</td>\n",
       "      <td>...</td>\n",
       "      <td>...</td>\n",
       "      <td>...</td>\n",
       "      <td>...</td>\n",
       "      <td>...</td>\n",
       "      <td>...</td>\n",
       "      <td>...</td>\n",
       "      <td>...</td>\n",
       "      <td>...</td>\n",
       "      <td>...</td>\n",
       "      <td>...</td>\n",
       "      <td>...</td>\n",
       "      <td>...</td>\n",
       "    </tr>\n",
       "    <tr>\n",
       "      <th>2235</th>\n",
       "      <td>10142</td>\n",
       "      <td>1976</td>\n",
       "      <td>PhD</td>\n",
       "      <td>Divorced</td>\n",
       "      <td>$66,476.00</td>\n",
       "      <td>0</td>\n",
       "      <td>1</td>\n",
       "      <td>3/7/13</td>\n",
       "      <td>99</td>\n",
       "      <td>372</td>\n",
       "      <td>...</td>\n",
       "      <td>11</td>\n",
       "      <td>4</td>\n",
       "      <td>0</td>\n",
       "      <td>0</td>\n",
       "      <td>0</td>\n",
       "      <td>0</td>\n",
       "      <td>0</td>\n",
       "      <td>0</td>\n",
       "      <td>0</td>\n",
       "      <td>US</td>\n",
       "    </tr>\n",
       "    <tr>\n",
       "      <th>2236</th>\n",
       "      <td>5263</td>\n",
       "      <td>1977</td>\n",
       "      <td>2n Cycle</td>\n",
       "      <td>Married</td>\n",
       "      <td>$31,056.00</td>\n",
       "      <td>1</td>\n",
       "      <td>0</td>\n",
       "      <td>1/22/13</td>\n",
       "      <td>99</td>\n",
       "      <td>5</td>\n",
       "      <td>...</td>\n",
       "      <td>3</td>\n",
       "      <td>8</td>\n",
       "      <td>0</td>\n",
       "      <td>0</td>\n",
       "      <td>0</td>\n",
       "      <td>0</td>\n",
       "      <td>0</td>\n",
       "      <td>0</td>\n",
       "      <td>0</td>\n",
       "      <td>SP</td>\n",
       "    </tr>\n",
       "    <tr>\n",
       "      <th>2237</th>\n",
       "      <td>22</td>\n",
       "      <td>1976</td>\n",
       "      <td>Graduation</td>\n",
       "      <td>Divorced</td>\n",
       "      <td>$46,310.00</td>\n",
       "      <td>1</td>\n",
       "      <td>0</td>\n",
       "      <td>12/3/12</td>\n",
       "      <td>99</td>\n",
       "      <td>185</td>\n",
       "      <td>...</td>\n",
       "      <td>5</td>\n",
       "      <td>8</td>\n",
       "      <td>0</td>\n",
       "      <td>0</td>\n",
       "      <td>0</td>\n",
       "      <td>0</td>\n",
       "      <td>0</td>\n",
       "      <td>0</td>\n",
       "      <td>0</td>\n",
       "      <td>SP</td>\n",
       "    </tr>\n",
       "    <tr>\n",
       "      <th>2238</th>\n",
       "      <td>528</td>\n",
       "      <td>1978</td>\n",
       "      <td>Graduation</td>\n",
       "      <td>Married</td>\n",
       "      <td>$65,819.00</td>\n",
       "      <td>0</td>\n",
       "      <td>0</td>\n",
       "      <td>11/29/12</td>\n",
       "      <td>99</td>\n",
       "      <td>267</td>\n",
       "      <td>...</td>\n",
       "      <td>10</td>\n",
       "      <td>3</td>\n",
       "      <td>0</td>\n",
       "      <td>0</td>\n",
       "      <td>0</td>\n",
       "      <td>0</td>\n",
       "      <td>0</td>\n",
       "      <td>0</td>\n",
       "      <td>0</td>\n",
       "      <td>IND</td>\n",
       "    </tr>\n",
       "    <tr>\n",
       "      <th>2239</th>\n",
       "      <td>4070</td>\n",
       "      <td>1969</td>\n",
       "      <td>PhD</td>\n",
       "      <td>Married</td>\n",
       "      <td>$94,871.00</td>\n",
       "      <td>0</td>\n",
       "      <td>2</td>\n",
       "      <td>9/1/12</td>\n",
       "      <td>99</td>\n",
       "      <td>169</td>\n",
       "      <td>...</td>\n",
       "      <td>4</td>\n",
       "      <td>7</td>\n",
       "      <td>0</td>\n",
       "      <td>1</td>\n",
       "      <td>1</td>\n",
       "      <td>0</td>\n",
       "      <td>0</td>\n",
       "      <td>1</td>\n",
       "      <td>0</td>\n",
       "      <td>CA</td>\n",
       "    </tr>\n",
       "  </tbody>\n",
       "</table>\n",
       "<p>2240 rows × 28 columns</p>\n",
       "</div>"
      ],
      "text/plain": [
       "         id  YearBirth   Education MaritalStatus       Income  Kidhome  \\\n",
       "0      1826       1970  Graduation      Divorced  $84,835.00         0   \n",
       "1         1       1961  Graduation        Single  $57,091.00         0   \n",
       "2     10476       1958  Graduation       Married  $67,267.00         0   \n",
       "3      1386       1967  Graduation      Together  $32,474.00         1   \n",
       "4      5371       1989  Graduation        Single  $21,474.00         1   \n",
       "...     ...        ...         ...           ...          ...      ...   \n",
       "2235  10142       1976         PhD      Divorced  $66,476.00         0   \n",
       "2236   5263       1977    2n Cycle       Married  $31,056.00         1   \n",
       "2237     22       1976  Graduation      Divorced  $46,310.00         1   \n",
       "2238    528       1978  Graduation       Married  $65,819.00         0   \n",
       "2239   4070       1969         PhD       Married  $94,871.00         0   \n",
       "\n",
       "      Teenhome DtCustomer  Recency  MntWines  ...  NumStorePurchases  \\\n",
       "0            0    6/16/14        0       189  ...                  6   \n",
       "1            0    6/15/14        0       464  ...                  7   \n",
       "2            1    5/13/14        0       134  ...                  5   \n",
       "3            1    5/11/14        0        10  ...                  2   \n",
       "4            0     4/8/14        0         6  ...                  2   \n",
       "...        ...        ...      ...       ...  ...                ...   \n",
       "2235         1     3/7/13       99       372  ...                 11   \n",
       "2236         0    1/22/13       99         5  ...                  3   \n",
       "2237         0    12/3/12       99       185  ...                  5   \n",
       "2238         0   11/29/12       99       267  ...                 10   \n",
       "2239         2     9/1/12       99       169  ...                  4   \n",
       "\n",
       "      NumWebVisitsMonth  AcceptedCmp3  AcceptedCmp4  AcceptedCmp5  \\\n",
       "0                     1             0             0             0   \n",
       "1                     5             0             0             0   \n",
       "2                     2             0             0             0   \n",
       "3                     7             0             0             0   \n",
       "4                     7             1             0             0   \n",
       "...                 ...           ...           ...           ...   \n",
       "2235                  4             0             0             0   \n",
       "2236                  8             0             0             0   \n",
       "2237                  8             0             0             0   \n",
       "2238                  3             0             0             0   \n",
       "2239                  7             0             1             1   \n",
       "\n",
       "      AcceptedCmp1  AcceptedCmp2  Response  Complain  Country  \n",
       "0                0             0         1         0       SP  \n",
       "1                0             1         1         0       CA  \n",
       "2                0             0         0         0       US  \n",
       "3                0             0         0         0      AUS  \n",
       "4                0             0         1         0       SP  \n",
       "...            ...           ...       ...       ...      ...  \n",
       "2235             0             0         0         0       US  \n",
       "2236             0             0         0         0       SP  \n",
       "2237             0             0         0         0       SP  \n",
       "2238             0             0         0         0      IND  \n",
       "2239             0             0         1         0       CA  \n",
       "\n",
       "[2240 rows x 28 columns]"
      ]
     },
     "metadata": {},
     "output_type": "display_data"
    }
   ],
   "source": [
    "dados = pd.read_csv('marketing_data.csv')\n",
    "display(dados)"
   ]
  },
  {
   "cell_type": "markdown",
   "id": "67a5a091",
   "metadata": {},
   "source": [
    "# Informações Relevantes\n",
    "\n",
    "- O dataset possui 2240 linhas e 28 colunas\n",
    "- A maioria dos dados apresentados são do tipo int\n",
    "- A coluna `income` possui dados ausentes, além de um espaço extra no nome da coluna, desta forma, será necessária alguma limpeza nos dados\n",
    "- As colunas podem ser renomeadas de forma maus eficiente\n",
    "- Podemos obter algumas estatísticas resumidas importantes sobre os dados"
   ]
  },
  {
   "cell_type": "code",
   "execution_count": 5,
   "id": "d0c90400",
   "metadata": {},
   "outputs": [
    {
     "data": {
      "text/plain": [
       "Index(['id', 'YearBirth', 'Education', 'MaritalStatus', 'Income', 'Kidhome',\n",
       "       'Teenhome', 'DtCustomer', 'Recency', 'MntWines', 'MntFruits',\n",
       "       'MntMeatProducts', 'MntFishProducts', 'MntSweetProducts',\n",
       "       'MntGoldProducts', 'NumDealsPurchases', 'NumWebPurchases',\n",
       "       'NumCatalogPurchases', 'NumStorePurchases', 'NumWebVisitsMonth',\n",
       "       'AcceptedCmp3', 'AcceptedCmp4', 'AcceptedCmp5', 'AcceptedCmp1',\n",
       "       'AcceptedCmp2', 'Response', 'Complain', 'Country'],\n",
       "      dtype='object')"
      ]
     },
     "execution_count": 5,
     "metadata": {},
     "output_type": "execute_result"
    }
   ],
   "source": [
    "dados.columns"
   ]
  },
  {
   "cell_type": "code",
   "execution_count": 6,
   "id": "783767b9",
   "metadata": {},
   "outputs": [
    {
     "name": "stdout",
     "output_type": "stream",
     "text": [
      "<class 'pandas.core.frame.DataFrame'>\n",
      "RangeIndex: 2240 entries, 0 to 2239\n",
      "Data columns (total 28 columns):\n",
      " #   Column               Non-Null Count  Dtype \n",
      "---  ------               --------------  ----- \n",
      " 0   id                   2240 non-null   int64 \n",
      " 1   YearBirth            2240 non-null   int64 \n",
      " 2   Education            2240 non-null   object\n",
      " 3   MaritalStatus        2240 non-null   object\n",
      " 4   Income               2216 non-null   object\n",
      " 5   Kidhome              2240 non-null   int64 \n",
      " 6   Teenhome             2240 non-null   int64 \n",
      " 7   DtCustomer           2240 non-null   object\n",
      " 8   Recency              2240 non-null   int64 \n",
      " 9   MntWines             2240 non-null   int64 \n",
      " 10  MntFruits            2240 non-null   int64 \n",
      " 11  MntMeatProducts      2240 non-null   int64 \n",
      " 12  MntFishProducts      2240 non-null   int64 \n",
      " 13  MntSweetProducts     2240 non-null   int64 \n",
      " 14  MntGoldProducts      2240 non-null   int64 \n",
      " 15  NumDealsPurchases    2240 non-null   int64 \n",
      " 16  NumWebPurchases      2240 non-null   int64 \n",
      " 17  NumCatalogPurchases  2240 non-null   int64 \n",
      " 18  NumStorePurchases    2240 non-null   int64 \n",
      " 19  NumWebVisitsMonth    2240 non-null   int64 \n",
      " 20  AcceptedCmp3         2240 non-null   int64 \n",
      " 21  AcceptedCmp4         2240 non-null   int64 \n",
      " 22  AcceptedCmp5         2240 non-null   int64 \n",
      " 23  AcceptedCmp1         2240 non-null   int64 \n",
      " 24  AcceptedCmp2         2240 non-null   int64 \n",
      " 25  Response             2240 non-null   int64 \n",
      " 26  Complain             2240 non-null   int64 \n",
      " 27  Country              2240 non-null   object\n",
      "dtypes: int64(23), object(5)\n",
      "memory usage: 490.1+ KB\n"
     ]
    }
   ],
   "source": [
    "dados.info()"
   ]
  },
  {
   "cell_type": "code",
   "execution_count": 7,
   "id": "ffe647e2",
   "metadata": {},
   "outputs": [
    {
     "data": {
      "text/plain": [
       "id                      0\n",
       "YearBirth               0\n",
       "Education               0\n",
       "MaritalStatus           0\n",
       "Income                 24\n",
       "Kidhome                 0\n",
       "Teenhome                0\n",
       "DtCustomer              0\n",
       "Recency                 0\n",
       "MntWines                0\n",
       "MntFruits               0\n",
       "MntMeatProducts         0\n",
       "MntFishProducts         0\n",
       "MntSweetProducts        0\n",
       "MntGoldProducts         0\n",
       "NumDealsPurchases       0\n",
       "NumWebPurchases         0\n",
       "NumCatalogPurchases     0\n",
       "NumStorePurchases       0\n",
       "NumWebVisitsMonth       0\n",
       "AcceptedCmp3            0\n",
       "AcceptedCmp4            0\n",
       "AcceptedCmp5            0\n",
       "AcceptedCmp1            0\n",
       "AcceptedCmp2            0\n",
       "Response                0\n",
       "Complain                0\n",
       "Country                 0\n",
       "dtype: int64"
      ]
     },
     "execution_count": 7,
     "metadata": {},
     "output_type": "execute_result"
    }
   ],
   "source": [
    "# Vejamos quais colunas possuem dados faltantes\n",
    "dados.isnull().sum()"
   ]
  },
  {
   "cell_type": "code",
   "execution_count": 8,
   "id": "56ed58a4",
   "metadata": {},
   "outputs": [
    {
     "data": {
      "text/plain": [
       "<bound method NDFrame.describe of          id  YearBirth   Education MaritalStatus       Income  Kidhome  \\\n",
       "0      1826       1970  Graduation      Divorced  $84,835.00         0   \n",
       "1         1       1961  Graduation        Single  $57,091.00         0   \n",
       "2     10476       1958  Graduation       Married  $67,267.00         0   \n",
       "3      1386       1967  Graduation      Together  $32,474.00         1   \n",
       "4      5371       1989  Graduation        Single  $21,474.00         1   \n",
       "...     ...        ...         ...           ...          ...      ...   \n",
       "2235  10142       1976         PhD      Divorced  $66,476.00         0   \n",
       "2236   5263       1977    2n Cycle       Married  $31,056.00         1   \n",
       "2237     22       1976  Graduation      Divorced  $46,310.00         1   \n",
       "2238    528       1978  Graduation       Married  $65,819.00         0   \n",
       "2239   4070       1969         PhD       Married  $94,871.00         0   \n",
       "\n",
       "      Teenhome DtCustomer  Recency  MntWines  ...  NumStorePurchases  \\\n",
       "0            0    6/16/14        0       189  ...                  6   \n",
       "1            0    6/15/14        0       464  ...                  7   \n",
       "2            1    5/13/14        0       134  ...                  5   \n",
       "3            1    5/11/14        0        10  ...                  2   \n",
       "4            0     4/8/14        0         6  ...                  2   \n",
       "...        ...        ...      ...       ...  ...                ...   \n",
       "2235         1     3/7/13       99       372  ...                 11   \n",
       "2236         0    1/22/13       99         5  ...                  3   \n",
       "2237         0    12/3/12       99       185  ...                  5   \n",
       "2238         0   11/29/12       99       267  ...                 10   \n",
       "2239         2     9/1/12       99       169  ...                  4   \n",
       "\n",
       "      NumWebVisitsMonth  AcceptedCmp3  AcceptedCmp4  AcceptedCmp5  \\\n",
       "0                     1             0             0             0   \n",
       "1                     5             0             0             0   \n",
       "2                     2             0             0             0   \n",
       "3                     7             0             0             0   \n",
       "4                     7             1             0             0   \n",
       "...                 ...           ...           ...           ...   \n",
       "2235                  4             0             0             0   \n",
       "2236                  8             0             0             0   \n",
       "2237                  8             0             0             0   \n",
       "2238                  3             0             0             0   \n",
       "2239                  7             0             1             1   \n",
       "\n",
       "      AcceptedCmp1  AcceptedCmp2  Response  Complain  Country  \n",
       "0                0             0         1         0       SP  \n",
       "1                0             1         1         0       CA  \n",
       "2                0             0         0         0       US  \n",
       "3                0             0         0         0      AUS  \n",
       "4                0             0         1         0       SP  \n",
       "...            ...           ...       ...       ...      ...  \n",
       "2235             0             0         0         0       US  \n",
       "2236             0             0         0         0       SP  \n",
       "2237             0             0         0         0       SP  \n",
       "2238             0             0         0         0      IND  \n",
       "2239             0             0         1         0       CA  \n",
       "\n",
       "[2240 rows x 28 columns]>"
      ]
     },
     "execution_count": 8,
     "metadata": {},
     "output_type": "execute_result"
    }
   ],
   "source": [
    "dados.describe"
   ]
  },
  {
   "cell_type": "markdown",
   "id": "7f0d4256",
   "metadata": {},
   "source": [
    "# Data Cleaning\n",
    "\n",
    " Como dito anteriormente, a coluna `Income` precisa de uma limpeza, assim como as demais colunas também podem ser renomeadas de forma mais otimizada, isto pode ser feito da seguinte maneira:\n",
    " \n",
    " - Colocar todas as colunas em `Snake Case Format` usando regex e list comprehension\n",
    " - Mudar valores da coluna `Income` para o tipo float"
   ]
  },
  {
   "cell_type": "code",
   "execution_count": 9,
   "id": "e5240f94",
   "metadata": {},
   "outputs": [],
   "source": [
    "# Limpando Colunas\n",
    "\n",
    "# Retirando o cifrão dos valores, e convertendo em float\n",
    "dados['Income'] =dados['Income'].replace('[\\$,]', '', regex=True).astype(float)"
   ]
  },
  {
   "cell_type": "code",
   "execution_count": 10,
   "id": "03732415",
   "metadata": {},
   "outputs": [
    {
     "data": {
      "text/plain": [
       "count      2216.000000\n",
       "mean      52247.251354\n",
       "std       25173.076661\n",
       "min        1730.000000\n",
       "25%       35303.000000\n",
       "50%       51381.500000\n",
       "75%       68522.000000\n",
       "max      666666.000000\n",
       "Name: Income, dtype: float64"
      ]
     },
     "execution_count": 10,
     "metadata": {},
     "output_type": "execute_result"
    }
   ],
   "source": [
    "# Estatísticas Resumidas\n",
    "dados['Income'].describe()"
   ]
  },
  {
   "cell_type": "code",
   "execution_count": 11,
   "id": "9abf4202",
   "metadata": {},
   "outputs": [],
   "source": [
    "# Colocando todas as colunas em snake case format\n",
    "dados.columns = [re.sub(r'(?<!^)(?=[A-Z])', '_', x).lower() for x in dados.columns]"
   ]
  },
  {
   "cell_type": "code",
   "execution_count": 12,
   "id": "f1ccb05b",
   "metadata": {},
   "outputs": [
    {
     "data": {
      "text/plain": [
       "Index(['id', 'year_birth', 'education', 'marital_status', 'income', 'kidhome',\n",
       "       'teenhome', 'dt_customer', 'recency', 'mnt_wines', 'mnt_fruits',\n",
       "       'mnt_meat_products', 'mnt_fish_products', 'mnt_sweet_products',\n",
       "       'mnt_gold_products', 'num_deals_purchases', 'num_web_purchases',\n",
       "       'num_catalog_purchases', 'num_store_purchases', 'num_web_visits_month',\n",
       "       'accepted_cmp3', 'accepted_cmp4', 'accepted_cmp5', 'accepted_cmp1',\n",
       "       'accepted_cmp2', 'response', 'complain', 'country'],\n",
       "      dtype='object')"
      ]
     },
     "execution_count": 12,
     "metadata": {},
     "output_type": "execute_result"
    }
   ],
   "source": [
    "dados.columns"
   ]
  },
  {
   "cell_type": "code",
   "execution_count": 13,
   "id": "bf66e293",
   "metadata": {},
   "outputs": [
    {
     "data": {
      "image/png": "[encoded data removed]",
      "text/plain": [
       "<Figure size 432x288 with 1 Axes>"
      ]
     },
     "metadata": {
      "needs_background": "light"
     },
     "output_type": "display_data"
    }
   ],
   "source": [
    "import warnings\n",
    "warnings.filterwarnings('ignore')\n",
    "plt.figure()\n",
    "sns.boxplot(dados[\"income\"])\n",
    "plt.show()"
   ]
  },
  {
   "cell_type": "markdown",
   "id": "d07a9595",
   "metadata": {},
   "source": [
    "- O Boxplot mostra um outlier muito à direita da distribuição, o qual deverá ser removido\n",
    "- Podemos tornar a distribuição dos dados mais simétrica selecionando apenas valores de renda menores que 300000"
   ]
  },
  {
   "cell_type": "code",
   "execution_count": 14,
   "id": "c4371706",
   "metadata": {},
   "outputs": [
    {
     "data": {
      "image/png": "[encoded data removed]",
      "text/plain": [
       "<Figure size 432x288 with 1 Axes>"
      ]
     },
     "metadata": {
      "needs_background": "light"
     },
     "output_type": "display_data"
    },
    {
     "data": {
      "text/plain": [
       "count      2215.000000\n",
       "mean      51969.861400\n",
       "std       21526.320095\n",
       "min        1730.000000\n",
       "25%       35284.000000\n",
       "50%       51373.000000\n",
       "75%       68487.000000\n",
       "max      162397.000000\n",
       "Name: income, dtype: float64"
      ]
     },
     "execution_count": 14,
     "metadata": {},
     "output_type": "execute_result"
    }
   ],
   "source": [
    "dados = dados[dados['income']<300000]\n",
    "\n",
    "plt.figure()\n",
    "sns.boxplot(dados[\"income\"])\n",
    "plt.show()\n",
    "\n",
    "\n",
    "dados['income'].describe()"
   ]
  },
  {
   "cell_type": "markdown",
   "id": "30e55e83",
   "metadata": {},
   "source": [
    "- Nota-se que após o tratamento dos dados, ainda restaram alguns outliers, porém sem tanta discreància quanto anteriormente, desta forma não influenciando de maneira significativa na distribuição dos dados\n",
    "- Além disto, existem 24 valores nulos na coluna `income` que podem ser substituídos por sua média da seguinte maneira:"
   ]
  },
  {
   "cell_type": "code",
   "execution_count": 16,
   "id": "ba12f62e",
   "metadata": {},
   "outputs": [],
   "source": [
    "dados['income'] = dados['income'].fillna(dados['income'].mean())"
   ]
  },
  {
   "cell_type": "markdown",
   "id": "a3f59dff",
   "metadata": {},
   "source": [
    "# Adicionando a coluna `age`"
   ]
  },
  {
   "cell_type": "markdown",
   "id": "72edfcb4",
   "metadata": {},
   "source": [
    "No dataset, existe a coluna `year_birth`, porém, podemos facilitar a análise subtraindo todos os valores presentes nesta coluna do ano atual, o que resulta diretamente na idade de cada cliente."
   ]
  },
  {
   "cell_type": "code",
   "execution_count": 17,
   "id": "af03d0ae",
   "metadata": {},
   "outputs": [],
   "source": [
    "dados['age'] = 2023 - dados['year_birth']"
   ]
  },
  {
   "cell_type": "code",
   "execution_count": 18,
   "id": "57d6c62d",
   "metadata": {},
   "outputs": [
    {
     "data": {
      "image/png": "[encoded data removed]",
      "text/plain": [
       "<Figure size 432x288 with 1 Axes>"
      ]
     },
     "metadata": {
      "needs_background": "light"
     },
     "output_type": "display_data"
    },
    {
     "data": {
      "text/plain": [
       "count    2215.000000\n",
       "mean       54.183296\n",
       "std        11.987000\n",
       "min        27.000000\n",
       "25%        46.000000\n",
       "50%        53.000000\n",
       "75%        64.000000\n",
       "max       130.000000\n",
       "Name: age, dtype: float64"
      ]
     },
     "execution_count": 18,
     "metadata": {},
     "output_type": "execute_result"
    }
   ],
   "source": [
    "plt.figure()\n",
    "sns.boxplot(dados[\"age\"])\n",
    "plt.show()\n",
    "\n",
    "dados[\"age\"].describe()"
   ]
  },
  {
   "cell_type": "code",
   "execution_count": 19,
   "id": "1d27ad63",
   "metadata": {},
   "outputs": [],
   "source": [
    "# Podemos remover os outliers filtrando apenas valores de idade inferiores a 100\n",
    "dados = dados[dados['age'] < 100]"
   ]
  },
  {
   "cell_type": "code",
   "execution_count": 20,
   "id": "2822a50c",
   "metadata": {},
   "outputs": [
    {
     "data": {
      "image/png": "[encoded data removed]",
      "text/plain": [
       "<Figure size 432x288 with 1 Axes>"
      ]
     },
     "metadata": {
      "needs_background": "light"
     },
     "output_type": "display_data"
    },
    {
     "data": {
      "text/plain": [
       "count    2212.000000\n",
       "mean       54.086347\n",
       "std        11.701599\n",
       "min        27.000000\n",
       "25%        46.000000\n",
       "50%        53.000000\n",
       "75%        64.000000\n",
       "max        83.000000\n",
       "Name: age, dtype: float64"
      ]
     },
     "execution_count": 20,
     "metadata": {},
     "output_type": "execute_result"
    }
   ],
   "source": [
    "plt.figure()\n",
    "sns.boxplot(dados[\"age\"])\n",
    "plt.show()\n",
    "\n",
    "dados[\"age\"].describe()"
   ]
  }
 ],
 "metadata": {
  "kernelspec": {
   "display_name": "Python 3 (ipykernel)",
   "language": "python",
   "name": "python3"
  },
  "language_info": {
   "codemirror_mode": {
    "name": "ipython",
    "version": 3
   },
   "file_extension": ".py",
   "mimetype": "text/x-python",
   "name": "python",
   "nbconvert_exporter": "python",
   "pygments_lexer": "ipython3",
   "version": "3.9.7"
  }
 },
 "nbformat": 4,
 "nbformat_minor": 5
}
